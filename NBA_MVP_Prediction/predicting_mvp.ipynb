{
 "cells": [
  {
   "cell_type": "markdown",
   "id": "673cca22-9a40-4717-9f10-9f4ccb1026e6",
   "metadata": {},
   "source": [
    "# Predicting the MVP\n",
    "\n",
    "In this project, I will look at the csv file player_mvp_stats.csv and try to predict the MVP using **Ridge regression and Random Forest regression**. First, I will clean the data. Then, I will define the ridge regression model and train it and then test it using an **error metric which measures how many tries it took the algo. to get the top 5 MVPs**. After that, I will create a **back testing** function that tests the model for all the previous years. Finally I will add some new predictors to improve the model and apply Random Forest Rgression to improve the predictions. **The algorithm correctly predicts the top 5 MVPs 77% of the time**."
   ]
  },
  {
   "cell_type": "code",
   "execution_count": 162,
   "id": "d369b1d7-939a-447a-9283-ebdc1fbf816f",
   "metadata": {
    "tags": []
   },
   "outputs": [],
   "source": [
    "import pandas as pd"
   ]
  },
  {
   "cell_type": "markdown",
   "id": "a6a0f0f0-66b1-41e7-be66-d28c762e2156",
   "metadata": {},
   "source": [
    "#### Loading and Cleaning the data."
   ]
  },
  {
   "cell_type": "code",
   "execution_count": 163,
   "id": "0eb75f6a-7baf-497b-a176-fd586e3e9b47",
   "metadata": {
    "tags": []
   },
   "outputs": [
    {
     "data": {
      "text/html": [
       "<div>\n",
       "<style scoped>\n",
       "    .dataframe tbody tr th:only-of-type {\n",
       "        vertical-align: middle;\n",
       "    }\n",
       "\n",
       "    .dataframe tbody tr th {\n",
       "        vertical-align: top;\n",
       "    }\n",
       "\n",
       "    .dataframe thead th {\n",
       "        text-align: right;\n",
       "    }\n",
       "</style>\n",
       "<table border=\"1\" class=\"dataframe\">\n",
       "  <thead>\n",
       "    <tr style=\"text-align: right;\">\n",
       "      <th></th>\n",
       "      <th>Unnamed: 0</th>\n",
       "      <th>Player</th>\n",
       "      <th>Pos</th>\n",
       "      <th>Age</th>\n",
       "      <th>Tm</th>\n",
       "      <th>G</th>\n",
       "      <th>GS</th>\n",
       "      <th>MP</th>\n",
       "      <th>FG</th>\n",
       "      <th>FGA</th>\n",
       "      <th>...</th>\n",
       "      <th>Pts Max</th>\n",
       "      <th>Share</th>\n",
       "      <th>Team</th>\n",
       "      <th>W</th>\n",
       "      <th>L</th>\n",
       "      <th>W/L%</th>\n",
       "      <th>GB</th>\n",
       "      <th>PS/G</th>\n",
       "      <th>PA/G</th>\n",
       "      <th>SRS</th>\n",
       "    </tr>\n",
       "  </thead>\n",
       "  <tbody>\n",
       "    <tr>\n",
       "      <th>0</th>\n",
       "      <td>0</td>\n",
       "      <td>A.C. Green</td>\n",
       "      <td>PF</td>\n",
       "      <td>22.0</td>\n",
       "      <td>LAL</td>\n",
       "      <td>82.0</td>\n",
       "      <td>1.0</td>\n",
       "      <td>18.8</td>\n",
       "      <td>2.5</td>\n",
       "      <td>4.7</td>\n",
       "      <td>...</td>\n",
       "      <td>0.0</td>\n",
       "      <td>0.000</td>\n",
       "      <td>Los Angeles Lakers</td>\n",
       "      <td>62.0</td>\n",
       "      <td>20.0</td>\n",
       "      <td>0.756</td>\n",
       "      <td>0.0</td>\n",
       "      <td>117.3</td>\n",
       "      <td>109.5</td>\n",
       "      <td>6.84</td>\n",
       "    </tr>\n",
       "    <tr>\n",
       "      <th>1</th>\n",
       "      <td>1</td>\n",
       "      <td>Byron Scott</td>\n",
       "      <td>SG</td>\n",
       "      <td>24.0</td>\n",
       "      <td>LAL</td>\n",
       "      <td>76.0</td>\n",
       "      <td>62.0</td>\n",
       "      <td>28.8</td>\n",
       "      <td>6.7</td>\n",
       "      <td>13.0</td>\n",
       "      <td>...</td>\n",
       "      <td>0.0</td>\n",
       "      <td>0.000</td>\n",
       "      <td>Los Angeles Lakers</td>\n",
       "      <td>62.0</td>\n",
       "      <td>20.0</td>\n",
       "      <td>0.756</td>\n",
       "      <td>0.0</td>\n",
       "      <td>117.3</td>\n",
       "      <td>109.5</td>\n",
       "      <td>6.84</td>\n",
       "    </tr>\n",
       "    <tr>\n",
       "      <th>2</th>\n",
       "      <td>2</td>\n",
       "      <td>James Worthy</td>\n",
       "      <td>SF</td>\n",
       "      <td>24.0</td>\n",
       "      <td>LAL</td>\n",
       "      <td>75.0</td>\n",
       "      <td>73.0</td>\n",
       "      <td>32.7</td>\n",
       "      <td>8.4</td>\n",
       "      <td>14.5</td>\n",
       "      <td>...</td>\n",
       "      <td>780.0</td>\n",
       "      <td>0.009</td>\n",
       "      <td>Los Angeles Lakers</td>\n",
       "      <td>62.0</td>\n",
       "      <td>20.0</td>\n",
       "      <td>0.756</td>\n",
       "      <td>0.0</td>\n",
       "      <td>117.3</td>\n",
       "      <td>109.5</td>\n",
       "      <td>6.84</td>\n",
       "    </tr>\n",
       "    <tr>\n",
       "      <th>3</th>\n",
       "      <td>3</td>\n",
       "      <td>Jerome Henderson</td>\n",
       "      <td>C</td>\n",
       "      <td>26.0</td>\n",
       "      <td>LAL</td>\n",
       "      <td>1.0</td>\n",
       "      <td>0.0</td>\n",
       "      <td>3.0</td>\n",
       "      <td>2.0</td>\n",
       "      <td>3.0</td>\n",
       "      <td>...</td>\n",
       "      <td>0.0</td>\n",
       "      <td>0.000</td>\n",
       "      <td>Los Angeles Lakers</td>\n",
       "      <td>62.0</td>\n",
       "      <td>20.0</td>\n",
       "      <td>0.756</td>\n",
       "      <td>0.0</td>\n",
       "      <td>117.3</td>\n",
       "      <td>109.5</td>\n",
       "      <td>6.84</td>\n",
       "    </tr>\n",
       "    <tr>\n",
       "      <th>4</th>\n",
       "      <td>4</td>\n",
       "      <td>Kareem Abdul-Jabbar</td>\n",
       "      <td>C</td>\n",
       "      <td>38.0</td>\n",
       "      <td>LAL</td>\n",
       "      <td>79.0</td>\n",
       "      <td>79.0</td>\n",
       "      <td>33.3</td>\n",
       "      <td>9.6</td>\n",
       "      <td>16.9</td>\n",
       "      <td>...</td>\n",
       "      <td>780.0</td>\n",
       "      <td>0.173</td>\n",
       "      <td>Los Angeles Lakers</td>\n",
       "      <td>62.0</td>\n",
       "      <td>20.0</td>\n",
       "      <td>0.756</td>\n",
       "      <td>0.0</td>\n",
       "      <td>117.3</td>\n",
       "      <td>109.5</td>\n",
       "      <td>6.84</td>\n",
       "    </tr>\n",
       "  </tbody>\n",
       "</table>\n",
       "<p>5 rows × 42 columns</p>\n",
       "</div>"
      ],
      "text/plain": [
       "   Unnamed: 0               Player Pos   Age   Tm     G    GS    MP   FG  \\\n",
       "0           0           A.C. Green  PF  22.0  LAL  82.0   1.0  18.8  2.5   \n",
       "1           1          Byron Scott  SG  24.0  LAL  76.0  62.0  28.8  6.7   \n",
       "2           2         James Worthy  SF  24.0  LAL  75.0  73.0  32.7  8.4   \n",
       "3           3     Jerome Henderson   C  26.0  LAL   1.0   0.0   3.0  2.0   \n",
       "4           4  Kareem Abdul-Jabbar   C  38.0  LAL  79.0  79.0  33.3  9.6   \n",
       "\n",
       "    FGA  ...  Pts Max  Share                Team     W     L   W/L%   GB  \\\n",
       "0   4.7  ...      0.0  0.000  Los Angeles Lakers  62.0  20.0  0.756  0.0   \n",
       "1  13.0  ...      0.0  0.000  Los Angeles Lakers  62.0  20.0  0.756  0.0   \n",
       "2  14.5  ...    780.0  0.009  Los Angeles Lakers  62.0  20.0  0.756  0.0   \n",
       "3   3.0  ...      0.0  0.000  Los Angeles Lakers  62.0  20.0  0.756  0.0   \n",
       "4  16.9  ...    780.0  0.173  Los Angeles Lakers  62.0  20.0  0.756  0.0   \n",
       "\n",
       "    PS/G   PA/G   SRS  \n",
       "0  117.3  109.5  6.84  \n",
       "1  117.3  109.5  6.84  \n",
       "2  117.3  109.5  6.84  \n",
       "3  117.3  109.5  6.84  \n",
       "4  117.3  109.5  6.84  \n",
       "\n",
       "[5 rows x 42 columns]"
      ]
     },
     "execution_count": 163,
     "metadata": {},
     "output_type": "execute_result"
    }
   ],
   "source": [
    "stats = pd.read_csv(\"player_mvp_stats.csv\")\n",
    "stats.head()"
   ]
  },
  {
   "cell_type": "code",
   "execution_count": 164,
   "id": "f01b2b12-9dee-439a-bccd-7c1c48b1064c",
   "metadata": {
    "tags": []
   },
   "outputs": [],
   "source": [
    "del stats[\"Unnamed: 0\"]"
   ]
  },
  {
   "cell_type": "code",
   "execution_count": 165,
   "id": "8696923a-5c98-4491-a4b8-daebad7ea241",
   "metadata": {
    "tags": []
   },
   "outputs": [
    {
     "data": {
      "text/plain": [
       "Player        0\n",
       "Pos           1\n",
       "Age           1\n",
       "Tm            1\n",
       "G             1\n",
       "GS          544\n",
       "MP            1\n",
       "FG            1\n",
       "FGA           1\n",
       "FG%          64\n",
       "3P            1\n",
       "3PA           1\n",
       "3P%        2740\n",
       "2P            1\n",
       "2PA           1\n",
       "2P%         107\n",
       "eFG%         64\n",
       "FT            1\n",
       "FTA           1\n",
       "FT%         585\n",
       "ORB           1\n",
       "DRB           1\n",
       "TRB           1\n",
       "AST           1\n",
       "STL           1\n",
       "BLK           1\n",
       "TOV           1\n",
       "PF            1\n",
       "PTS           1\n",
       "Year          0\n",
       "Pts Won       0\n",
       "Pts Max       0\n",
       "Share         0\n",
       "Team        151\n",
       "W           151\n",
       "L           151\n",
       "W/L%        151\n",
       "GB          151\n",
       "PS/G        151\n",
       "PA/G        151\n",
       "SRS         151\n",
       "dtype: int64"
      ]
     },
     "execution_count": 165,
     "metadata": {},
     "output_type": "execute_result"
    }
   ],
   "source": [
    "# checking for null values.\n",
    "pd.isnull(stats).sum()"
   ]
  },
  {
   "cell_type": "code",
   "execution_count": 166,
   "id": "f1aef522-df34-40b4-add8-06795ef0c655",
   "metadata": {
    "tags": []
   },
   "outputs": [
    {
     "data": {
      "text/html": [
       "<div>\n",
       "<style scoped>\n",
       "    .dataframe tbody tr th:only-of-type {\n",
       "        vertical-align: middle;\n",
       "    }\n",
       "\n",
       "    .dataframe tbody tr th {\n",
       "        vertical-align: top;\n",
       "    }\n",
       "\n",
       "    .dataframe thead th {\n",
       "        text-align: right;\n",
       "    }\n",
       "</style>\n",
       "<table border=\"1\" class=\"dataframe\">\n",
       "  <thead>\n",
       "    <tr style=\"text-align: right;\">\n",
       "      <th></th>\n",
       "      <th>Player</th>\n",
       "      <th>FTA</th>\n",
       "    </tr>\n",
       "  </thead>\n",
       "  <tbody>\n",
       "    <tr>\n",
       "      <th>3</th>\n",
       "      <td>Jerome Henderson</td>\n",
       "      <td>0.0</td>\n",
       "    </tr>\n",
       "    <tr>\n",
       "      <th>144</th>\n",
       "      <td>John Coker</td>\n",
       "      <td>0.0</td>\n",
       "    </tr>\n",
       "    <tr>\n",
       "      <th>159</th>\n",
       "      <td>Jason Sasser</td>\n",
       "      <td>0.0</td>\n",
       "    </tr>\n",
       "    <tr>\n",
       "      <th>170</th>\n",
       "      <td>Adrian Caldwell</td>\n",
       "      <td>0.0</td>\n",
       "    </tr>\n",
       "    <tr>\n",
       "      <th>186</th>\n",
       "      <td>Bruno Šundov</td>\n",
       "      <td>0.0</td>\n",
       "    </tr>\n",
       "    <tr>\n",
       "      <th>...</th>\n",
       "      <td>...</td>\n",
       "      <td>...</td>\n",
       "    </tr>\n",
       "    <tr>\n",
       "      <th>18075</th>\n",
       "      <td>Mark McNamara</td>\n",
       "      <td>0.0</td>\n",
       "    </tr>\n",
       "    <tr>\n",
       "      <th>18103</th>\n",
       "      <td>Luke Zeller</td>\n",
       "      <td>0.0</td>\n",
       "    </tr>\n",
       "    <tr>\n",
       "      <th>18156</th>\n",
       "      <td>Myron Brown</td>\n",
       "      <td>0.0</td>\n",
       "    </tr>\n",
       "    <tr>\n",
       "      <th>18178</th>\n",
       "      <td>Malcolm Lee</td>\n",
       "      <td>0.0</td>\n",
       "    </tr>\n",
       "    <tr>\n",
       "      <th>18227</th>\n",
       "      <td>Steve Novak</td>\n",
       "      <td>0.0</td>\n",
       "    </tr>\n",
       "  </tbody>\n",
       "</table>\n",
       "<p>585 rows × 2 columns</p>\n",
       "</div>"
      ],
      "text/plain": [
       "                 Player  FTA\n",
       "3      Jerome Henderson  0.0\n",
       "144          John Coker  0.0\n",
       "159        Jason Sasser  0.0\n",
       "170     Adrian Caldwell  0.0\n",
       "186        Bruno Šundov  0.0\n",
       "...                 ...  ...\n",
       "18075     Mark McNamara  0.0\n",
       "18103       Luke Zeller  0.0\n",
       "18156       Myron Brown  0.0\n",
       "18178       Malcolm Lee  0.0\n",
       "18227       Steve Novak  0.0\n",
       "\n",
       "[585 rows x 2 columns]"
      ]
     },
     "execution_count": 166,
     "metadata": {},
     "output_type": "execute_result"
    }
   ],
   "source": [
    "# checking why there would be null values\n",
    "stats[pd.isnull(stats[\"FT%\"])][[\"Player\", \"FTA\"]]"
   ]
  },
  {
   "cell_type": "code",
   "execution_count": 167,
   "id": "b1b34172-dd2f-4ed0-9ccb-94cec9e2fa4c",
   "metadata": {
    "tags": []
   },
   "outputs": [],
   "source": [
    "# filling with 0. This is not exactly correct.\n",
    "# But works well for our purposes.\n",
    "stats = stats.fillna(0)"
   ]
  },
  {
   "cell_type": "code",
   "execution_count": 168,
   "id": "9d607c8d-3acd-43a6-92b9-e13a013dd2e7",
   "metadata": {
    "tags": []
   },
   "outputs": [
    {
     "data": {
      "text/plain": [
       "Player     0\n",
       "Pos        0\n",
       "Age        0\n",
       "Tm         0\n",
       "G          0\n",
       "GS         0\n",
       "MP         0\n",
       "FG         0\n",
       "FGA        0\n",
       "FG%        0\n",
       "3P         0\n",
       "3PA        0\n",
       "3P%        0\n",
       "2P         0\n",
       "2PA        0\n",
       "2P%        0\n",
       "eFG%       0\n",
       "FT         0\n",
       "FTA        0\n",
       "FT%        0\n",
       "ORB        0\n",
       "DRB        0\n",
       "TRB        0\n",
       "AST        0\n",
       "STL        0\n",
       "BLK        0\n",
       "TOV        0\n",
       "PF         0\n",
       "PTS        0\n",
       "Year       0\n",
       "Pts Won    0\n",
       "Pts Max    0\n",
       "Share      0\n",
       "Team       0\n",
       "W          0\n",
       "L          0\n",
       "W/L%       0\n",
       "GB         0\n",
       "PS/G       0\n",
       "PA/G       0\n",
       "SRS        0\n",
       "dtype: int64"
      ]
     },
     "execution_count": 168,
     "metadata": {},
     "output_type": "execute_result"
    }
   ],
   "source": [
    "# checking that the changes took effect\n",
    "pd.isnull(stats).sum()"
   ]
  },
  {
   "cell_type": "code",
   "execution_count": 169,
   "id": "2f312a7c-9ab9-4a6a-ba7f-d490d7fd590d",
   "metadata": {
    "tags": []
   },
   "outputs": [
    {
     "data": {
      "text/plain": [
       "Index(['Player', 'Pos', 'Age', 'Tm', 'G', 'GS', 'MP', 'FG', 'FGA', 'FG%', '3P',\n",
       "       '3PA', '3P%', '2P', '2PA', '2P%', 'eFG%', 'FT', 'FTA', 'FT%', 'ORB',\n",
       "       'DRB', 'TRB', 'AST', 'STL', 'BLK', 'TOV', 'PF', 'PTS', 'Year',\n",
       "       'Pts Won', 'Pts Max', 'Share', 'Team', 'W', 'L', 'W/L%', 'GB', 'PS/G',\n",
       "       'PA/G', 'SRS'],\n",
       "      dtype='object')"
      ]
     },
     "execution_count": 169,
     "metadata": {},
     "output_type": "execute_result"
    }
   ],
   "source": [
    "stats.columns"
   ]
  },
  {
   "cell_type": "code",
   "execution_count": 170,
   "id": "15f2594f-e718-4e85-a590-76457733883b",
   "metadata": {
    "tags": []
   },
   "outputs": [],
   "source": [
    "# only using numeric and not the mvp votes.\n",
    "predictors = ['Age', 'G', 'GS', 'MP', 'FG', 'FGA', 'FG%', '3P',\n",
    "       '3PA', '3P%', '2P', '2PA', '2P%', 'eFG%', 'FT', 'FTA', 'FT%', 'ORB',\n",
    "       'DRB', 'TRB', 'AST', 'STL', 'BLK', 'TOV', 'PF', 'PTS', 'Year',\n",
    "        'W', 'L', 'W/L%', 'GB', 'PS/G',\n",
    "       'PA/G', 'SRS']"
   ]
  },
  {
   "cell_type": "code",
   "execution_count": 171,
   "id": "736cd4a5-c114-4c5f-bfb3-3adba7ba3ad1",
   "metadata": {
    "tags": []
   },
   "outputs": [
    {
     "data": {
      "text/plain": [
       "array([1986, 1987, 1988, 1989, 1990, 1991, 1992, 1993, 1994, 1995, 1996,\n",
       "       1997, 1998, 1999, 2000, 2001, 2002, 2003, 2017, 2010, 2011, 2012,\n",
       "       2013, 2014, 2015, 2008, 2009, 2016, 2018, 2019, 2020, 2021, 2022,\n",
       "       2004, 2005, 2006, 2007, 1980, 1981, 1982, 1983, 1984, 1985])"
      ]
     },
     "execution_count": 171,
     "metadata": {},
     "output_type": "execute_result"
    }
   ],
   "source": [
    "stats[\"Year\"].unique()"
   ]
  },
  {
   "cell_type": "code",
   "execution_count": 172,
   "id": "73e88a9d-da92-4d58-b5dc-1ac526d54bd8",
   "metadata": {
    "tags": []
   },
   "outputs": [],
   "source": [
    "train = stats[stats[\"Year\"] < 2022]"
   ]
  },
  {
   "cell_type": "code",
   "execution_count": 173,
   "id": "efd6508f-81f7-4d2b-9d16-a0bdf1d449c2",
   "metadata": {
    "tags": []
   },
   "outputs": [],
   "source": [
    "test = stats[stats[\"Year\"] == 2022]"
   ]
  },
  {
   "cell_type": "code",
   "execution_count": 174,
   "id": "982887df-9613-4249-a7b4-b05e1ef7d4ee",
   "metadata": {
    "tags": []
   },
   "outputs": [
    {
     "data": {
      "text/html": [
       "<div>\n",
       "<style scoped>\n",
       "    .dataframe tbody tr th:only-of-type {\n",
       "        vertical-align: middle;\n",
       "    }\n",
       "\n",
       "    .dataframe tbody tr th {\n",
       "        vertical-align: top;\n",
       "    }\n",
       "\n",
       "    .dataframe thead th {\n",
       "        text-align: right;\n",
       "    }\n",
       "</style>\n",
       "<table border=\"1\" class=\"dataframe\">\n",
       "  <thead>\n",
       "    <tr style=\"text-align: right;\">\n",
       "      <th></th>\n",
       "      <th>Player</th>\n",
       "      <th>Pos</th>\n",
       "      <th>Age</th>\n",
       "      <th>Tm</th>\n",
       "      <th>G</th>\n",
       "      <th>GS</th>\n",
       "      <th>MP</th>\n",
       "      <th>FG</th>\n",
       "      <th>FGA</th>\n",
       "      <th>FG%</th>\n",
       "      <th>...</th>\n",
       "      <th>Pts Max</th>\n",
       "      <th>Share</th>\n",
       "      <th>Team</th>\n",
       "      <th>W</th>\n",
       "      <th>L</th>\n",
       "      <th>W/L%</th>\n",
       "      <th>GB</th>\n",
       "      <th>PS/G</th>\n",
       "      <th>PA/G</th>\n",
       "      <th>SRS</th>\n",
       "    </tr>\n",
       "  </thead>\n",
       "  <tbody>\n",
       "    <tr>\n",
       "      <th>0</th>\n",
       "      <td>A.C. Green</td>\n",
       "      <td>PF</td>\n",
       "      <td>22.0</td>\n",
       "      <td>LAL</td>\n",
       "      <td>82.0</td>\n",
       "      <td>1.0</td>\n",
       "      <td>18.8</td>\n",
       "      <td>2.5</td>\n",
       "      <td>4.7</td>\n",
       "      <td>0.539</td>\n",
       "      <td>...</td>\n",
       "      <td>0.0</td>\n",
       "      <td>0.000</td>\n",
       "      <td>Los Angeles Lakers</td>\n",
       "      <td>62.0</td>\n",
       "      <td>20.0</td>\n",
       "      <td>0.756</td>\n",
       "      <td>0.0</td>\n",
       "      <td>117.3</td>\n",
       "      <td>109.5</td>\n",
       "      <td>6.84</td>\n",
       "    </tr>\n",
       "    <tr>\n",
       "      <th>1</th>\n",
       "      <td>Byron Scott</td>\n",
       "      <td>SG</td>\n",
       "      <td>24.0</td>\n",
       "      <td>LAL</td>\n",
       "      <td>76.0</td>\n",
       "      <td>62.0</td>\n",
       "      <td>28.8</td>\n",
       "      <td>6.7</td>\n",
       "      <td>13.0</td>\n",
       "      <td>0.513</td>\n",
       "      <td>...</td>\n",
       "      <td>0.0</td>\n",
       "      <td>0.000</td>\n",
       "      <td>Los Angeles Lakers</td>\n",
       "      <td>62.0</td>\n",
       "      <td>20.0</td>\n",
       "      <td>0.756</td>\n",
       "      <td>0.0</td>\n",
       "      <td>117.3</td>\n",
       "      <td>109.5</td>\n",
       "      <td>6.84</td>\n",
       "    </tr>\n",
       "    <tr>\n",
       "      <th>2</th>\n",
       "      <td>James Worthy</td>\n",
       "      <td>SF</td>\n",
       "      <td>24.0</td>\n",
       "      <td>LAL</td>\n",
       "      <td>75.0</td>\n",
       "      <td>73.0</td>\n",
       "      <td>32.7</td>\n",
       "      <td>8.4</td>\n",
       "      <td>14.5</td>\n",
       "      <td>0.579</td>\n",
       "      <td>...</td>\n",
       "      <td>780.0</td>\n",
       "      <td>0.009</td>\n",
       "      <td>Los Angeles Lakers</td>\n",
       "      <td>62.0</td>\n",
       "      <td>20.0</td>\n",
       "      <td>0.756</td>\n",
       "      <td>0.0</td>\n",
       "      <td>117.3</td>\n",
       "      <td>109.5</td>\n",
       "      <td>6.84</td>\n",
       "    </tr>\n",
       "    <tr>\n",
       "      <th>3</th>\n",
       "      <td>Jerome Henderson</td>\n",
       "      <td>C</td>\n",
       "      <td>26.0</td>\n",
       "      <td>LAL</td>\n",
       "      <td>1.0</td>\n",
       "      <td>0.0</td>\n",
       "      <td>3.0</td>\n",
       "      <td>2.0</td>\n",
       "      <td>3.0</td>\n",
       "      <td>0.667</td>\n",
       "      <td>...</td>\n",
       "      <td>0.0</td>\n",
       "      <td>0.000</td>\n",
       "      <td>Los Angeles Lakers</td>\n",
       "      <td>62.0</td>\n",
       "      <td>20.0</td>\n",
       "      <td>0.756</td>\n",
       "      <td>0.0</td>\n",
       "      <td>117.3</td>\n",
       "      <td>109.5</td>\n",
       "      <td>6.84</td>\n",
       "    </tr>\n",
       "    <tr>\n",
       "      <th>4</th>\n",
       "      <td>Kareem Abdul-Jabbar</td>\n",
       "      <td>C</td>\n",
       "      <td>38.0</td>\n",
       "      <td>LAL</td>\n",
       "      <td>79.0</td>\n",
       "      <td>79.0</td>\n",
       "      <td>33.3</td>\n",
       "      <td>9.6</td>\n",
       "      <td>16.9</td>\n",
       "      <td>0.564</td>\n",
       "      <td>...</td>\n",
       "      <td>780.0</td>\n",
       "      <td>0.173</td>\n",
       "      <td>Los Angeles Lakers</td>\n",
       "      <td>62.0</td>\n",
       "      <td>20.0</td>\n",
       "      <td>0.756</td>\n",
       "      <td>0.0</td>\n",
       "      <td>117.3</td>\n",
       "      <td>109.5</td>\n",
       "      <td>6.84</td>\n",
       "    </tr>\n",
       "  </tbody>\n",
       "</table>\n",
       "<p>5 rows × 41 columns</p>\n",
       "</div>"
      ],
      "text/plain": [
       "                Player Pos   Age   Tm     G    GS    MP   FG   FGA    FG%  \\\n",
       "0           A.C. Green  PF  22.0  LAL  82.0   1.0  18.8  2.5   4.7  0.539   \n",
       "1          Byron Scott  SG  24.0  LAL  76.0  62.0  28.8  6.7  13.0  0.513   \n",
       "2         James Worthy  SF  24.0  LAL  75.0  73.0  32.7  8.4  14.5  0.579   \n",
       "3     Jerome Henderson   C  26.0  LAL   1.0   0.0   3.0  2.0   3.0  0.667   \n",
       "4  Kareem Abdul-Jabbar   C  38.0  LAL  79.0  79.0  33.3  9.6  16.9  0.564   \n",
       "\n",
       "   ...  Pts Max  Share                Team     W     L   W/L%   GB   PS/G  \\\n",
       "0  ...      0.0  0.000  Los Angeles Lakers  62.0  20.0  0.756  0.0  117.3   \n",
       "1  ...      0.0  0.000  Los Angeles Lakers  62.0  20.0  0.756  0.0  117.3   \n",
       "2  ...    780.0  0.009  Los Angeles Lakers  62.0  20.0  0.756  0.0  117.3   \n",
       "3  ...      0.0  0.000  Los Angeles Lakers  62.0  20.0  0.756  0.0  117.3   \n",
       "4  ...    780.0  0.173  Los Angeles Lakers  62.0  20.0  0.756  0.0  117.3   \n",
       "\n",
       "    PA/G   SRS  \n",
       "0  109.5  6.84  \n",
       "1  109.5  6.84  \n",
       "2  109.5  6.84  \n",
       "3  109.5  6.84  \n",
       "4  109.5  6.84  \n",
       "\n",
       "[5 rows x 41 columns]"
      ]
     },
     "execution_count": 174,
     "metadata": {},
     "output_type": "execute_result"
    }
   ],
   "source": [
    "train.head()"
   ]
  },
  {
   "cell_type": "code",
   "execution_count": 175,
   "id": "833b9e91-eec3-44b5-94f7-08011163f692",
   "metadata": {
    "tags": []
   },
   "outputs": [
    {
     "data": {
      "text/html": [
       "<div>\n",
       "<style scoped>\n",
       "    .dataframe tbody tr th:only-of-type {\n",
       "        vertical-align: middle;\n",
       "    }\n",
       "\n",
       "    .dataframe tbody tr th {\n",
       "        vertical-align: top;\n",
       "    }\n",
       "\n",
       "    .dataframe thead th {\n",
       "        text-align: right;\n",
       "    }\n",
       "</style>\n",
       "<table border=\"1\" class=\"dataframe\">\n",
       "  <thead>\n",
       "    <tr style=\"text-align: right;\">\n",
       "      <th></th>\n",
       "      <th>Player</th>\n",
       "      <th>Pos</th>\n",
       "      <th>Age</th>\n",
       "      <th>Tm</th>\n",
       "      <th>G</th>\n",
       "      <th>GS</th>\n",
       "      <th>MP</th>\n",
       "      <th>FG</th>\n",
       "      <th>FGA</th>\n",
       "      <th>FG%</th>\n",
       "      <th>...</th>\n",
       "      <th>Pts Max</th>\n",
       "      <th>Share</th>\n",
       "      <th>Team</th>\n",
       "      <th>W</th>\n",
       "      <th>L</th>\n",
       "      <th>W/L%</th>\n",
       "      <th>GB</th>\n",
       "      <th>PS/G</th>\n",
       "      <th>PA/G</th>\n",
       "      <th>SRS</th>\n",
       "    </tr>\n",
       "  </thead>\n",
       "  <tbody>\n",
       "    <tr>\n",
       "      <th>715</th>\n",
       "      <td>Aaron Gordon</td>\n",
       "      <td>PF</td>\n",
       "      <td>26.0</td>\n",
       "      <td>DEN</td>\n",
       "      <td>75.0</td>\n",
       "      <td>75.0</td>\n",
       "      <td>31.7</td>\n",
       "      <td>5.8</td>\n",
       "      <td>11.1</td>\n",
       "      <td>0.520</td>\n",
       "      <td>...</td>\n",
       "      <td>0.0</td>\n",
       "      <td>0.0</td>\n",
       "      <td>Denver Nuggets</td>\n",
       "      <td>48.0</td>\n",
       "      <td>34.0</td>\n",
       "      <td>0.585</td>\n",
       "      <td>1.0</td>\n",
       "      <td>112.7</td>\n",
       "      <td>110.4</td>\n",
       "      <td>2.16</td>\n",
       "    </tr>\n",
       "    <tr>\n",
       "      <th>716</th>\n",
       "      <td>Austin Rivers</td>\n",
       "      <td>SG</td>\n",
       "      <td>29.0</td>\n",
       "      <td>DEN</td>\n",
       "      <td>67.0</td>\n",
       "      <td>18.0</td>\n",
       "      <td>22.1</td>\n",
       "      <td>2.2</td>\n",
       "      <td>5.2</td>\n",
       "      <td>0.417</td>\n",
       "      <td>...</td>\n",
       "      <td>0.0</td>\n",
       "      <td>0.0</td>\n",
       "      <td>Denver Nuggets</td>\n",
       "      <td>48.0</td>\n",
       "      <td>34.0</td>\n",
       "      <td>0.585</td>\n",
       "      <td>1.0</td>\n",
       "      <td>112.7</td>\n",
       "      <td>110.4</td>\n",
       "      <td>2.16</td>\n",
       "    </tr>\n",
       "    <tr>\n",
       "      <th>717</th>\n",
       "      <td>Bol Bol</td>\n",
       "      <td>PF</td>\n",
       "      <td>22.0</td>\n",
       "      <td>DEN</td>\n",
       "      <td>14.0</td>\n",
       "      <td>0.0</td>\n",
       "      <td>5.8</td>\n",
       "      <td>1.1</td>\n",
       "      <td>1.9</td>\n",
       "      <td>0.556</td>\n",
       "      <td>...</td>\n",
       "      <td>0.0</td>\n",
       "      <td>0.0</td>\n",
       "      <td>Denver Nuggets</td>\n",
       "      <td>48.0</td>\n",
       "      <td>34.0</td>\n",
       "      <td>0.585</td>\n",
       "      <td>1.0</td>\n",
       "      <td>112.7</td>\n",
       "      <td>110.4</td>\n",
       "      <td>2.16</td>\n",
       "    </tr>\n",
       "    <tr>\n",
       "      <th>718</th>\n",
       "      <td>Bones Hyland</td>\n",
       "      <td>SG</td>\n",
       "      <td>21.0</td>\n",
       "      <td>DEN</td>\n",
       "      <td>69.0</td>\n",
       "      <td>4.0</td>\n",
       "      <td>19.0</td>\n",
       "      <td>3.3</td>\n",
       "      <td>8.3</td>\n",
       "      <td>0.403</td>\n",
       "      <td>...</td>\n",
       "      <td>0.0</td>\n",
       "      <td>0.0</td>\n",
       "      <td>Denver Nuggets</td>\n",
       "      <td>48.0</td>\n",
       "      <td>34.0</td>\n",
       "      <td>0.585</td>\n",
       "      <td>1.0</td>\n",
       "      <td>112.7</td>\n",
       "      <td>110.4</td>\n",
       "      <td>2.16</td>\n",
       "    </tr>\n",
       "    <tr>\n",
       "      <th>719</th>\n",
       "      <td>Bryn Forbes</td>\n",
       "      <td>SG</td>\n",
       "      <td>28.0</td>\n",
       "      <td>DEN</td>\n",
       "      <td>75.0</td>\n",
       "      <td>2.0</td>\n",
       "      <td>17.1</td>\n",
       "      <td>3.1</td>\n",
       "      <td>7.2</td>\n",
       "      <td>0.429</td>\n",
       "      <td>...</td>\n",
       "      <td>0.0</td>\n",
       "      <td>0.0</td>\n",
       "      <td>Denver Nuggets</td>\n",
       "      <td>48.0</td>\n",
       "      <td>34.0</td>\n",
       "      <td>0.585</td>\n",
       "      <td>1.0</td>\n",
       "      <td>112.7</td>\n",
       "      <td>110.4</td>\n",
       "      <td>2.16</td>\n",
       "    </tr>\n",
       "  </tbody>\n",
       "</table>\n",
       "<p>5 rows × 41 columns</p>\n",
       "</div>"
      ],
      "text/plain": [
       "            Player Pos   Age   Tm     G    GS    MP   FG   FGA    FG%  ...  \\\n",
       "715   Aaron Gordon  PF  26.0  DEN  75.0  75.0  31.7  5.8  11.1  0.520  ...   \n",
       "716  Austin Rivers  SG  29.0  DEN  67.0  18.0  22.1  2.2   5.2  0.417  ...   \n",
       "717        Bol Bol  PF  22.0  DEN  14.0   0.0   5.8  1.1   1.9  0.556  ...   \n",
       "718   Bones Hyland  SG  21.0  DEN  69.0   4.0  19.0  3.3   8.3  0.403  ...   \n",
       "719    Bryn Forbes  SG  28.0  DEN  75.0   2.0  17.1  3.1   7.2  0.429  ...   \n",
       "\n",
       "     Pts Max  Share            Team     W     L   W/L%   GB   PS/G   PA/G  \\\n",
       "715      0.0    0.0  Denver Nuggets  48.0  34.0  0.585  1.0  112.7  110.4   \n",
       "716      0.0    0.0  Denver Nuggets  48.0  34.0  0.585  1.0  112.7  110.4   \n",
       "717      0.0    0.0  Denver Nuggets  48.0  34.0  0.585  1.0  112.7  110.4   \n",
       "718      0.0    0.0  Denver Nuggets  48.0  34.0  0.585  1.0  112.7  110.4   \n",
       "719      0.0    0.0  Denver Nuggets  48.0  34.0  0.585  1.0  112.7  110.4   \n",
       "\n",
       "      SRS  \n",
       "715  2.16  \n",
       "716  2.16  \n",
       "717  2.16  \n",
       "718  2.16  \n",
       "719  2.16  \n",
       "\n",
       "[5 rows x 41 columns]"
      ]
     },
     "execution_count": 175,
     "metadata": {},
     "output_type": "execute_result"
    }
   ],
   "source": [
    "test.head()"
   ]
  },
  {
   "cell_type": "markdown",
   "id": "4217ab80-c602-4412-bfef-520710d991b6",
   "metadata": {},
   "source": [
    "### Baseline Model\n",
    "\n",
    "Creating a baseline Ridge regression model."
   ]
  },
  {
   "cell_type": "code",
   "execution_count": 176,
   "id": "ff1a27b1-8781-4736-83c7-61648307055b",
   "metadata": {
    "tags": []
   },
   "outputs": [],
   "source": [
    "from sklearn.linear_model import Ridge\n",
    "\n",
    "reg = Ridge(alpha = 0.1)"
   ]
  },
  {
   "cell_type": "code",
   "execution_count": 177,
   "id": "8aaee690-777b-4f5f-9e96-eabce601ff4b",
   "metadata": {
    "tags": []
   },
   "outputs": [
    {
     "data": {
      "text/html": [
       "<style>#sk-container-id-3 {color: black;background-color: white;}#sk-container-id-3 pre{padding: 0;}#sk-container-id-3 div.sk-toggleable {background-color: white;}#sk-container-id-3 label.sk-toggleable__label {cursor: pointer;display: block;width: 100%;margin-bottom: 0;padding: 0.3em;box-sizing: border-box;text-align: center;}#sk-container-id-3 label.sk-toggleable__label-arrow:before {content: \"▸\";float: left;margin-right: 0.25em;color: #696969;}#sk-container-id-3 label.sk-toggleable__label-arrow:hover:before {color: black;}#sk-container-id-3 div.sk-estimator:hover label.sk-toggleable__label-arrow:before {color: black;}#sk-container-id-3 div.sk-toggleable__content {max-height: 0;max-width: 0;overflow: hidden;text-align: left;background-color: #f0f8ff;}#sk-container-id-3 div.sk-toggleable__content pre {margin: 0.2em;color: black;border-radius: 0.25em;background-color: #f0f8ff;}#sk-container-id-3 input.sk-toggleable__control:checked~div.sk-toggleable__content {max-height: 200px;max-width: 100%;overflow: auto;}#sk-container-id-3 input.sk-toggleable__control:checked~label.sk-toggleable__label-arrow:before {content: \"▾\";}#sk-container-id-3 div.sk-estimator input.sk-toggleable__control:checked~label.sk-toggleable__label {background-color: #d4ebff;}#sk-container-id-3 div.sk-label input.sk-toggleable__control:checked~label.sk-toggleable__label {background-color: #d4ebff;}#sk-container-id-3 input.sk-hidden--visually {border: 0;clip: rect(1px 1px 1px 1px);clip: rect(1px, 1px, 1px, 1px);height: 1px;margin: -1px;overflow: hidden;padding: 0;position: absolute;width: 1px;}#sk-container-id-3 div.sk-estimator {font-family: monospace;background-color: #f0f8ff;border: 1px dotted black;border-radius: 0.25em;box-sizing: border-box;margin-bottom: 0.5em;}#sk-container-id-3 div.sk-estimator:hover {background-color: #d4ebff;}#sk-container-id-3 div.sk-parallel-item::after {content: \"\";width: 100%;border-bottom: 1px solid gray;flex-grow: 1;}#sk-container-id-3 div.sk-label:hover label.sk-toggleable__label {background-color: #d4ebff;}#sk-container-id-3 div.sk-serial::before {content: \"\";position: absolute;border-left: 1px solid gray;box-sizing: border-box;top: 0;bottom: 0;left: 50%;z-index: 0;}#sk-container-id-3 div.sk-serial {display: flex;flex-direction: column;align-items: center;background-color: white;padding-right: 0.2em;padding-left: 0.2em;position: relative;}#sk-container-id-3 div.sk-item {position: relative;z-index: 1;}#sk-container-id-3 div.sk-parallel {display: flex;align-items: stretch;justify-content: center;background-color: white;position: relative;}#sk-container-id-3 div.sk-item::before, #sk-container-id-3 div.sk-parallel-item::before {content: \"\";position: absolute;border-left: 1px solid gray;box-sizing: border-box;top: 0;bottom: 0;left: 50%;z-index: -1;}#sk-container-id-3 div.sk-parallel-item {display: flex;flex-direction: column;z-index: 1;position: relative;background-color: white;}#sk-container-id-3 div.sk-parallel-item:first-child::after {align-self: flex-end;width: 50%;}#sk-container-id-3 div.sk-parallel-item:last-child::after {align-self: flex-start;width: 50%;}#sk-container-id-3 div.sk-parallel-item:only-child::after {width: 0;}#sk-container-id-3 div.sk-dashed-wrapped {border: 1px dashed gray;margin: 0 0.4em 0.5em 0.4em;box-sizing: border-box;padding-bottom: 0.4em;background-color: white;}#sk-container-id-3 div.sk-label label {font-family: monospace;font-weight: bold;display: inline-block;line-height: 1.2em;}#sk-container-id-3 div.sk-label-container {text-align: center;}#sk-container-id-3 div.sk-container {/* jupyter's `normalize.less` sets `[hidden] { display: none; }` but bootstrap.min.css set `[hidden] { display: none !important; }` so we also need the `!important` here to be able to override the default hidden behavior on the sphinx rendered scikit-learn.org. See: https://github.com/scikit-learn/scikit-learn/issues/21755 */display: inline-block !important;position: relative;}#sk-container-id-3 div.sk-text-repr-fallback {display: none;}</style><div id=\"sk-container-id-3\" class=\"sk-top-container\"><div class=\"sk-text-repr-fallback\"><pre>Ridge(alpha=0.1)</pre><b>In a Jupyter environment, please rerun this cell to show the HTML representation or trust the notebook. <br />On GitHub, the HTML representation is unable to render, please try loading this page with nbviewer.org.</b></div><div class=\"sk-container\" hidden><div class=\"sk-item\"><div class=\"sk-estimator sk-toggleable\"><input class=\"sk-toggleable__control sk-hidden--visually\" id=\"sk-estimator-id-3\" type=\"checkbox\" checked><label for=\"sk-estimator-id-3\" class=\"sk-toggleable__label sk-toggleable__label-arrow\">Ridge</label><div class=\"sk-toggleable__content\"><pre>Ridge(alpha=0.1)</pre></div></div></div></div></div>"
      ],
      "text/plain": [
       "Ridge(alpha=0.1)"
      ]
     },
     "execution_count": 177,
     "metadata": {},
     "output_type": "execute_result"
    }
   ],
   "source": [
    "reg.fit(train[predictors], train[\"Share\"])"
   ]
  },
  {
   "cell_type": "code",
   "execution_count": 178,
   "id": "61f892ac-a834-4964-ab18-9c8ffeb670f2",
   "metadata": {
    "tags": []
   },
   "outputs": [],
   "source": [
    "predictions = reg.predict(test[predictors])"
   ]
  },
  {
   "cell_type": "code",
   "execution_count": 179,
   "id": "dca390f0-838f-4996-9607-57e7fc960996",
   "metadata": {
    "tags": []
   },
   "outputs": [],
   "source": [
    "predictions = pd.DataFrame(predictions, columns=[\"predictions\"], index = test.index)"
   ]
  },
  {
   "cell_type": "code",
   "execution_count": 180,
   "id": "2fbb9a5c-a8b0-4c53-8d87-1bfd848c8b17",
   "metadata": {
    "tags": []
   },
   "outputs": [
    {
     "data": {
      "text/html": [
       "<div>\n",
       "<style scoped>\n",
       "    .dataframe tbody tr th:only-of-type {\n",
       "        vertical-align: middle;\n",
       "    }\n",
       "\n",
       "    .dataframe tbody tr th {\n",
       "        vertical-align: top;\n",
       "    }\n",
       "\n",
       "    .dataframe thead th {\n",
       "        text-align: right;\n",
       "    }\n",
       "</style>\n",
       "<table border=\"1\" class=\"dataframe\">\n",
       "  <thead>\n",
       "    <tr style=\"text-align: right;\">\n",
       "      <th></th>\n",
       "      <th>predictions</th>\n",
       "    </tr>\n",
       "  </thead>\n",
       "  <tbody>\n",
       "    <tr>\n",
       "      <th>715</th>\n",
       "      <td>0.011335</td>\n",
       "    </tr>\n",
       "    <tr>\n",
       "      <th>716</th>\n",
       "      <td>-0.031913</td>\n",
       "    </tr>\n",
       "    <tr>\n",
       "      <th>717</th>\n",
       "      <td>-0.004785</td>\n",
       "    </tr>\n",
       "    <tr>\n",
       "      <th>718</th>\n",
       "      <td>0.018834</td>\n",
       "    </tr>\n",
       "    <tr>\n",
       "      <th>719</th>\n",
       "      <td>-0.007124</td>\n",
       "    </tr>\n",
       "    <tr>\n",
       "      <th>...</th>\n",
       "      <td>...</td>\n",
       "    </tr>\n",
       "    <tr>\n",
       "      <th>15389</th>\n",
       "      <td>-0.015732</td>\n",
       "    </tr>\n",
       "    <tr>\n",
       "      <th>15390</th>\n",
       "      <td>-0.009122</td>\n",
       "    </tr>\n",
       "    <tr>\n",
       "      <th>15391</th>\n",
       "      <td>0.007408</td>\n",
       "    </tr>\n",
       "    <tr>\n",
       "      <th>15392</th>\n",
       "      <td>0.006101</td>\n",
       "    </tr>\n",
       "    <tr>\n",
       "      <th>15393</th>\n",
       "      <td>-0.058738</td>\n",
       "    </tr>\n",
       "  </tbody>\n",
       "</table>\n",
       "<p>605 rows × 1 columns</p>\n",
       "</div>"
      ],
      "text/plain": [
       "       predictions\n",
       "715       0.011335\n",
       "716      -0.031913\n",
       "717      -0.004785\n",
       "718       0.018834\n",
       "719      -0.007124\n",
       "...            ...\n",
       "15389    -0.015732\n",
       "15390    -0.009122\n",
       "15391     0.007408\n",
       "15392     0.006101\n",
       "15393    -0.058738\n",
       "\n",
       "[605 rows x 1 columns]"
      ]
     },
     "execution_count": 180,
     "metadata": {},
     "output_type": "execute_result"
    }
   ],
   "source": [
    "predictions"
   ]
  },
  {
   "cell_type": "code",
   "execution_count": 181,
   "id": "6f57099c-3326-4259-a401-89fedeb66b4b",
   "metadata": {
    "tags": []
   },
   "outputs": [],
   "source": [
    "combination = pd.concat([test[[\"Player\", \"Share\"]], predictions], axis = 1)"
   ]
  },
  {
   "cell_type": "code",
   "execution_count": 182,
   "id": "3cb46472-5c4b-4cbb-9301-d062c57755ee",
   "metadata": {
    "tags": []
   },
   "outputs": [
    {
     "data": {
      "text/html": [
       "<div>\n",
       "<style scoped>\n",
       "    .dataframe tbody tr th:only-of-type {\n",
       "        vertical-align: middle;\n",
       "    }\n",
       "\n",
       "    .dataframe tbody tr th {\n",
       "        vertical-align: top;\n",
       "    }\n",
       "\n",
       "    .dataframe thead th {\n",
       "        text-align: right;\n",
       "    }\n",
       "</style>\n",
       "<table border=\"1\" class=\"dataframe\">\n",
       "  <thead>\n",
       "    <tr style=\"text-align: right;\">\n",
       "      <th></th>\n",
       "      <th>Player</th>\n",
       "      <th>Share</th>\n",
       "      <th>predictions</th>\n",
       "    </tr>\n",
       "  </thead>\n",
       "  <tbody>\n",
       "    <tr>\n",
       "      <th>715</th>\n",
       "      <td>Aaron Gordon</td>\n",
       "      <td>0.0</td>\n",
       "      <td>0.011335</td>\n",
       "    </tr>\n",
       "    <tr>\n",
       "      <th>716</th>\n",
       "      <td>Austin Rivers</td>\n",
       "      <td>0.0</td>\n",
       "      <td>-0.031913</td>\n",
       "    </tr>\n",
       "    <tr>\n",
       "      <th>717</th>\n",
       "      <td>Bol Bol</td>\n",
       "      <td>0.0</td>\n",
       "      <td>-0.004785</td>\n",
       "    </tr>\n",
       "    <tr>\n",
       "      <th>718</th>\n",
       "      <td>Bones Hyland</td>\n",
       "      <td>0.0</td>\n",
       "      <td>0.018834</td>\n",
       "    </tr>\n",
       "    <tr>\n",
       "      <th>719</th>\n",
       "      <td>Bryn Forbes</td>\n",
       "      <td>0.0</td>\n",
       "      <td>-0.007124</td>\n",
       "    </tr>\n",
       "    <tr>\n",
       "      <th>...</th>\n",
       "      <td>...</td>\n",
       "      <td>...</td>\n",
       "      <td>...</td>\n",
       "    </tr>\n",
       "    <tr>\n",
       "      <th>15389</th>\n",
       "      <td>Micah Potter</td>\n",
       "      <td>0.0</td>\n",
       "      <td>-0.015732</td>\n",
       "    </tr>\n",
       "    <tr>\n",
       "      <th>15390</th>\n",
       "      <td>Rodney McGruder</td>\n",
       "      <td>0.0</td>\n",
       "      <td>-0.009122</td>\n",
       "    </tr>\n",
       "    <tr>\n",
       "      <th>15391</th>\n",
       "      <td>Saben Lee</td>\n",
       "      <td>0.0</td>\n",
       "      <td>0.007408</td>\n",
       "    </tr>\n",
       "    <tr>\n",
       "      <th>15392</th>\n",
       "      <td>Saddiq Bey</td>\n",
       "      <td>0.0</td>\n",
       "      <td>0.006101</td>\n",
       "    </tr>\n",
       "    <tr>\n",
       "      <th>15393</th>\n",
       "      <td>Trayvon Palmer</td>\n",
       "      <td>0.0</td>\n",
       "      <td>-0.058738</td>\n",
       "    </tr>\n",
       "  </tbody>\n",
       "</table>\n",
       "<p>605 rows × 3 columns</p>\n",
       "</div>"
      ],
      "text/plain": [
       "                Player  Share  predictions\n",
       "715       Aaron Gordon    0.0     0.011335\n",
       "716      Austin Rivers    0.0    -0.031913\n",
       "717            Bol Bol    0.0    -0.004785\n",
       "718       Bones Hyland    0.0     0.018834\n",
       "719        Bryn Forbes    0.0    -0.007124\n",
       "...                ...    ...          ...\n",
       "15389     Micah Potter    0.0    -0.015732\n",
       "15390  Rodney McGruder    0.0    -0.009122\n",
       "15391        Saben Lee    0.0     0.007408\n",
       "15392       Saddiq Bey    0.0     0.006101\n",
       "15393   Trayvon Palmer    0.0    -0.058738\n",
       "\n",
       "[605 rows x 3 columns]"
      ]
     },
     "execution_count": 182,
     "metadata": {},
     "output_type": "execute_result"
    }
   ],
   "source": [
    "combination"
   ]
  },
  {
   "cell_type": "code",
   "execution_count": 183,
   "id": "0924bb2c-3e79-47d3-9053-e2095171712c",
   "metadata": {
    "tags": []
   },
   "outputs": [
    {
     "data": {
      "text/html": [
       "<div>\n",
       "<style scoped>\n",
       "    .dataframe tbody tr th:only-of-type {\n",
       "        vertical-align: middle;\n",
       "    }\n",
       "\n",
       "    .dataframe tbody tr th {\n",
       "        vertical-align: top;\n",
       "    }\n",
       "\n",
       "    .dataframe thead th {\n",
       "        text-align: right;\n",
       "    }\n",
       "</style>\n",
       "<table border=\"1\" class=\"dataframe\">\n",
       "  <thead>\n",
       "    <tr style=\"text-align: right;\">\n",
       "      <th></th>\n",
       "      <th>Player</th>\n",
       "      <th>Share</th>\n",
       "      <th>predictions</th>\n",
       "    </tr>\n",
       "  </thead>\n",
       "  <tbody>\n",
       "    <tr>\n",
       "      <th>730</th>\n",
       "      <td>Nikola Jokić</td>\n",
       "      <td>0.875</td>\n",
       "      <td>0.205077</td>\n",
       "    </tr>\n",
       "    <tr>\n",
       "      <th>904</th>\n",
       "      <td>Joel Embiid</td>\n",
       "      <td>0.706</td>\n",
       "      <td>0.199724</td>\n",
       "    </tr>\n",
       "    <tr>\n",
       "      <th>14472</th>\n",
       "      <td>Giannis Antetokounmpo</td>\n",
       "      <td>0.595</td>\n",
       "      <td>0.219371</td>\n",
       "    </tr>\n",
       "    <tr>\n",
       "      <th>974</th>\n",
       "      <td>Devin Booker</td>\n",
       "      <td>0.216</td>\n",
       "      <td>0.093413</td>\n",
       "    </tr>\n",
       "    <tr>\n",
       "      <th>14263</th>\n",
       "      <td>Luka Dončić</td>\n",
       "      <td>0.146</td>\n",
       "      <td>0.163396</td>\n",
       "    </tr>\n",
       "    <tr>\n",
       "      <th>1246</th>\n",
       "      <td>Jayson Tatum</td>\n",
       "      <td>0.043</td>\n",
       "      <td>0.100722</td>\n",
       "    </tr>\n",
       "    <tr>\n",
       "      <th>15107</th>\n",
       "      <td>Ja Morant</td>\n",
       "      <td>0.010</td>\n",
       "      <td>0.118509</td>\n",
       "    </tr>\n",
       "    <tr>\n",
       "      <th>7628</th>\n",
       "      <td>Stephen Curry</td>\n",
       "      <td>0.004</td>\n",
       "      <td>0.101065</td>\n",
       "    </tr>\n",
       "    <tr>\n",
       "      <th>972</th>\n",
       "      <td>Chris Paul</td>\n",
       "      <td>0.002</td>\n",
       "      <td>0.086199</td>\n",
       "    </tr>\n",
       "    <tr>\n",
       "      <th>9677</th>\n",
       "      <td>LeBron James</td>\n",
       "      <td>0.001</td>\n",
       "      <td>0.159685</td>\n",
       "    </tr>\n",
       "  </tbody>\n",
       "</table>\n",
       "</div>"
      ],
      "text/plain": [
       "                      Player  Share  predictions\n",
       "730             Nikola Jokić  0.875     0.205077\n",
       "904              Joel Embiid  0.706     0.199724\n",
       "14472  Giannis Antetokounmpo  0.595     0.219371\n",
       "974             Devin Booker  0.216     0.093413\n",
       "14263            Luka Dončić  0.146     0.163396\n",
       "1246            Jayson Tatum  0.043     0.100722\n",
       "15107              Ja Morant  0.010     0.118509\n",
       "7628           Stephen Curry  0.004     0.101065\n",
       "972               Chris Paul  0.002     0.086199\n",
       "9677            LeBron James  0.001     0.159685"
      ]
     },
     "execution_count": 183,
     "metadata": {},
     "output_type": "execute_result"
    }
   ],
   "source": [
    "combination.sort_values(\"Share\", ascending=False).head(10)"
   ]
  },
  {
   "cell_type": "code",
   "execution_count": 184,
   "id": "26d005c4-2e21-4f97-b5e7-3c5c5846a8fe",
   "metadata": {
    "tags": []
   },
   "outputs": [
    {
     "data": {
      "text/plain": [
       "0.0022497427914943903"
      ]
     },
     "execution_count": 184,
     "metadata": {},
     "output_type": "execute_result"
    }
   ],
   "source": [
    "from sklearn.metrics import mean_squared_error\n",
    "\n",
    "mean_squared_error(combination[\"Share\"], combination[\"predictions\"])"
   ]
  },
  {
   "cell_type": "markdown",
   "id": "dc7cfbbc-8103-4226-8bf5-00ab9aa6784a",
   "metadata": {},
   "source": [
    "### Combining ranks and putting them into one dataframe."
   ]
  },
  {
   "cell_type": "code",
   "execution_count": 185,
   "id": "78b04cd9-c826-4f86-aa4c-67951b67c6c7",
   "metadata": {
    "tags": []
   },
   "outputs": [
    {
     "data": {
      "text/html": [
       "<div>\n",
       "<style scoped>\n",
       "    .dataframe tbody tr th:only-of-type {\n",
       "        vertical-align: middle;\n",
       "    }\n",
       "\n",
       "    .dataframe tbody tr th {\n",
       "        vertical-align: top;\n",
       "    }\n",
       "\n",
       "    .dataframe thead th {\n",
       "        text-align: right;\n",
       "    }\n",
       "</style>\n",
       "<table border=\"1\" class=\"dataframe\">\n",
       "  <thead>\n",
       "    <tr style=\"text-align: right;\">\n",
       "      <th></th>\n",
       "      <th>Player</th>\n",
       "      <th>Share</th>\n",
       "      <th>predictions</th>\n",
       "      <th>Rank</th>\n",
       "    </tr>\n",
       "  </thead>\n",
       "  <tbody>\n",
       "    <tr>\n",
       "      <th>730</th>\n",
       "      <td>Nikola Jokić</td>\n",
       "      <td>0.875</td>\n",
       "      <td>0.205077</td>\n",
       "      <td>1</td>\n",
       "    </tr>\n",
       "    <tr>\n",
       "      <th>904</th>\n",
       "      <td>Joel Embiid</td>\n",
       "      <td>0.706</td>\n",
       "      <td>0.199724</td>\n",
       "      <td>2</td>\n",
       "    </tr>\n",
       "    <tr>\n",
       "      <th>14472</th>\n",
       "      <td>Giannis Antetokounmpo</td>\n",
       "      <td>0.595</td>\n",
       "      <td>0.219371</td>\n",
       "      <td>3</td>\n",
       "    </tr>\n",
       "    <tr>\n",
       "      <th>974</th>\n",
       "      <td>Devin Booker</td>\n",
       "      <td>0.216</td>\n",
       "      <td>0.093413</td>\n",
       "      <td>4</td>\n",
       "    </tr>\n",
       "    <tr>\n",
       "      <th>14263</th>\n",
       "      <td>Luka Dončić</td>\n",
       "      <td>0.146</td>\n",
       "      <td>0.163396</td>\n",
       "      <td>5</td>\n",
       "    </tr>\n",
       "    <tr>\n",
       "      <th>1246</th>\n",
       "      <td>Jayson Tatum</td>\n",
       "      <td>0.043</td>\n",
       "      <td>0.100722</td>\n",
       "      <td>6</td>\n",
       "    </tr>\n",
       "    <tr>\n",
       "      <th>15107</th>\n",
       "      <td>Ja Morant</td>\n",
       "      <td>0.010</td>\n",
       "      <td>0.118509</td>\n",
       "      <td>7</td>\n",
       "    </tr>\n",
       "    <tr>\n",
       "      <th>7628</th>\n",
       "      <td>Stephen Curry</td>\n",
       "      <td>0.004</td>\n",
       "      <td>0.101065</td>\n",
       "      <td>8</td>\n",
       "    </tr>\n",
       "    <tr>\n",
       "      <th>972</th>\n",
       "      <td>Chris Paul</td>\n",
       "      <td>0.002</td>\n",
       "      <td>0.086199</td>\n",
       "      <td>9</td>\n",
       "    </tr>\n",
       "    <tr>\n",
       "      <th>9677</th>\n",
       "      <td>LeBron James</td>\n",
       "      <td>0.001</td>\n",
       "      <td>0.159685</td>\n",
       "      <td>10</td>\n",
       "    </tr>\n",
       "  </tbody>\n",
       "</table>\n",
       "</div>"
      ],
      "text/plain": [
       "                      Player  Share  predictions  Rank\n",
       "730             Nikola Jokić  0.875     0.205077     1\n",
       "904              Joel Embiid  0.706     0.199724     2\n",
       "14472  Giannis Antetokounmpo  0.595     0.219371     3\n",
       "974             Devin Booker  0.216     0.093413     4\n",
       "14263            Luka Dončić  0.146     0.163396     5\n",
       "1246            Jayson Tatum  0.043     0.100722     6\n",
       "15107              Ja Morant  0.010     0.118509     7\n",
       "7628           Stephen Curry  0.004     0.101065     8\n",
       "972               Chris Paul  0.002     0.086199     9\n",
       "9677            LeBron James  0.001     0.159685    10"
      ]
     },
     "execution_count": 185,
     "metadata": {},
     "output_type": "execute_result"
    }
   ],
   "source": [
    "combination = combination.sort_values(\"Share\", ascending=False)\n",
    "combination[\"Rank\"] = list(range(1,combination.shape[0]+1))\n",
    "combination.head(10)"
   ]
  },
  {
   "cell_type": "code",
   "execution_count": 186,
   "id": "c09ca615-ce1a-44dd-96dd-667b5907e8a9",
   "metadata": {
    "tags": []
   },
   "outputs": [
    {
     "data": {
      "text/html": [
       "<div>\n",
       "<style scoped>\n",
       "    .dataframe tbody tr th:only-of-type {\n",
       "        vertical-align: middle;\n",
       "    }\n",
       "\n",
       "    .dataframe tbody tr th {\n",
       "        vertical-align: top;\n",
       "    }\n",
       "\n",
       "    .dataframe thead th {\n",
       "        text-align: right;\n",
       "    }\n",
       "</style>\n",
       "<table border=\"1\" class=\"dataframe\">\n",
       "  <thead>\n",
       "    <tr style=\"text-align: right;\">\n",
       "      <th></th>\n",
       "      <th>Player</th>\n",
       "      <th>Share</th>\n",
       "      <th>predictions</th>\n",
       "      <th>Rank</th>\n",
       "      <th>Predicted Rank</th>\n",
       "    </tr>\n",
       "  </thead>\n",
       "  <tbody>\n",
       "    <tr>\n",
       "      <th>14472</th>\n",
       "      <td>Giannis Antetokounmpo</td>\n",
       "      <td>0.595</td>\n",
       "      <td>0.219371</td>\n",
       "      <td>3</td>\n",
       "      <td>1</td>\n",
       "    </tr>\n",
       "    <tr>\n",
       "      <th>730</th>\n",
       "      <td>Nikola Jokić</td>\n",
       "      <td>0.875</td>\n",
       "      <td>0.205077</td>\n",
       "      <td>1</td>\n",
       "      <td>2</td>\n",
       "    </tr>\n",
       "    <tr>\n",
       "      <th>904</th>\n",
       "      <td>Joel Embiid</td>\n",
       "      <td>0.706</td>\n",
       "      <td>0.199724</td>\n",
       "      <td>2</td>\n",
       "      <td>3</td>\n",
       "    </tr>\n",
       "    <tr>\n",
       "      <th>14263</th>\n",
       "      <td>Luka Dončić</td>\n",
       "      <td>0.146</td>\n",
       "      <td>0.163396</td>\n",
       "      <td>5</td>\n",
       "      <td>4</td>\n",
       "    </tr>\n",
       "    <tr>\n",
       "      <th>9677</th>\n",
       "      <td>LeBron James</td>\n",
       "      <td>0.001</td>\n",
       "      <td>0.159685</td>\n",
       "      <td>10</td>\n",
       "      <td>5</td>\n",
       "    </tr>\n",
       "    <tr>\n",
       "      <th>7415</th>\n",
       "      <td>Kevin Durant</td>\n",
       "      <td>0.001</td>\n",
       "      <td>0.148857</td>\n",
       "      <td>12</td>\n",
       "      <td>6</td>\n",
       "    </tr>\n",
       "    <tr>\n",
       "      <th>903</th>\n",
       "      <td>James Harden</td>\n",
       "      <td>0.000</td>\n",
       "      <td>0.119059</td>\n",
       "      <td>393</td>\n",
       "      <td>7</td>\n",
       "    </tr>\n",
       "    <tr>\n",
       "      <th>15107</th>\n",
       "      <td>Ja Morant</td>\n",
       "      <td>0.010</td>\n",
       "      <td>0.118509</td>\n",
       "      <td>7</td>\n",
       "      <td>8</td>\n",
       "    </tr>\n",
       "    <tr>\n",
       "      <th>14614</th>\n",
       "      <td>Trae Young</td>\n",
       "      <td>0.000</td>\n",
       "      <td>0.116520</td>\n",
       "      <td>289</td>\n",
       "      <td>9</td>\n",
       "    </tr>\n",
       "    <tr>\n",
       "      <th>9667</th>\n",
       "      <td>Anthony Davis</td>\n",
       "      <td>0.000</td>\n",
       "      <td>0.107340</td>\n",
       "      <td>112</td>\n",
       "      <td>10</td>\n",
       "    </tr>\n",
       "  </tbody>\n",
       "</table>\n",
       "</div>"
      ],
      "text/plain": [
       "                      Player  Share  predictions  Rank  Predicted Rank\n",
       "14472  Giannis Antetokounmpo  0.595     0.219371     3               1\n",
       "730             Nikola Jokić  0.875     0.205077     1               2\n",
       "904              Joel Embiid  0.706     0.199724     2               3\n",
       "14263            Luka Dončić  0.146     0.163396     5               4\n",
       "9677            LeBron James  0.001     0.159685    10               5\n",
       "7415            Kevin Durant  0.001     0.148857    12               6\n",
       "903             James Harden  0.000     0.119059   393               7\n",
       "15107              Ja Morant  0.010     0.118509     7               8\n",
       "14614             Trae Young  0.000     0.116520   289               9\n",
       "9667           Anthony Davis  0.000     0.107340   112              10"
      ]
     },
     "execution_count": 186,
     "metadata": {},
     "output_type": "execute_result"
    }
   ],
   "source": [
    "combination = combination.sort_values(\"predictions\", ascending=False)\n",
    "combination[\"Predicted Rank\"] = list(range(1,combination.shape[0]+1))\n",
    "combination.head(10)"
   ]
  },
  {
   "cell_type": "code",
   "execution_count": 187,
   "id": "d824f538-a4df-4441-b4d2-4d3e40551173",
   "metadata": {
    "tags": []
   },
   "outputs": [],
   "source": [
    "# error metric: how many tries did it take to get the top 5 MVPs.\n",
    "def find_ap(combination):\n",
    "    actual = combination.sort_values(\"Share\", ascending=False).head(5)\n",
    "    predicted = combination.sort_values(\"predictions\", ascending=False)\n",
    "    ps = []\n",
    "    found = 0\n",
    "    seen = 1\n",
    "    for index,row in predicted.iterrows():\n",
    "        if row[\"Player\"] in actual[\"Player\"].values:\n",
    "            found += 1\n",
    "            ps.append(found / seen)\n",
    "        seen += 1\n",
    "\n",
    "    return sum(ps) / len(ps)"
   ]
  },
  {
   "cell_type": "code",
   "execution_count": 188,
   "id": "bc9f4bf1-8d95-4aba-a4d1-7fbda44721b7",
   "metadata": {
    "tags": []
   },
   "outputs": [
    {
     "data": {
      "text/plain": [
       "0.8555555555555555"
      ]
     },
     "execution_count": 188,
     "metadata": {},
     "output_type": "execute_result"
    }
   ],
   "source": [
    "# 1 would be perfect. We want this to higher.\n",
    "ap = find_ap(combined)\n",
    "ap"
   ]
  },
  {
   "cell_type": "markdown",
   "id": "de749eb3-5e89-4e80-9f94-2e4c29676d2e",
   "metadata": {},
   "source": [
    "### Backtesting\n",
    "\n",
    "Creating a backtesting function that tests for all the previous years as well."
   ]
  },
  {
   "cell_type": "code",
   "execution_count": 189,
   "id": "9c5342a3-ad08-4c98-8d59-01dccbf0bd97",
   "metadata": {
    "tags": []
   },
   "outputs": [],
   "source": [
    "years = list(range(1980,2023))\n",
    "aps = []\n",
    "all_predictions = []\n",
    "for year in years[10:]:\n",
    "    train = stats[stats[\"Year\"] < year]\n",
    "    test = stats[stats[\"Year\"] == year]\n",
    "    reg.fit(train[predictors], train[\"Share\"])\n",
    "    predictions = reg.predict(test[predictors])\n",
    "    predictions = pd.DataFrame(predictions, columns=[\"predictions\"], index = test.index)\n",
    "    combination = pd.concat([test[[\"Player\", \"Share\"]], predictions], axis = 1)\n",
    "    all_predictions.append(combination)\n",
    "    aps.append(find_ap(combination))"
   ]
  },
  {
   "cell_type": "code",
   "execution_count": 190,
   "id": "f0897c6d-d8d3-4034-a3e4-6c18bdf6083d",
   "metadata": {
    "tags": []
   },
   "outputs": [
    {
     "data": {
      "text/plain": [
       "0.7767894587150335"
      ]
     },
     "execution_count": 190,
     "metadata": {},
     "output_type": "execute_result"
    }
   ],
   "source": [
    "sum(aps)/len(aps)"
   ]
  },
  {
   "cell_type": "markdown",
   "id": "03fa82bf-bafc-4689-b8ef-91a23d495680",
   "metadata": {},
   "source": [
    "### Model Diagnostics"
   ]
  },
  {
   "cell_type": "code",
   "execution_count": 191,
   "id": "4cca01ad-a801-41b6-84bf-edc1086d8d0c",
   "metadata": {
    "tags": []
   },
   "outputs": [],
   "source": [
    "def add_ranks(combination):\n",
    "    combination = combination.sort_values(\"Share\", ascending=False)\n",
    "    combination[\"Rank\"] = list(range(1,combination.shape[0]+1))\n",
    "    combination = combination.sort_values(\"predictions\", ascending=False)\n",
    "    combination[\"Predicted Rank\"] = list(range(1,combination.shape[0]+1))\n",
    "    combination[\"Diff in rank\"] = combination[\"Rank\"] - combination[\"Predicted Rank\"]\n",
    "    return combination"
   ]
  },
  {
   "cell_type": "code",
   "execution_count": 192,
   "id": "fdd9afe4-1884-494d-8c73-541dc54219d4",
   "metadata": {
    "tags": []
   },
   "outputs": [
    {
     "data": {
      "text/html": [
       "<div>\n",
       "<style scoped>\n",
       "    .dataframe tbody tr th:only-of-type {\n",
       "        vertical-align: middle;\n",
       "    }\n",
       "\n",
       "    .dataframe tbody tr th {\n",
       "        vertical-align: top;\n",
       "    }\n",
       "\n",
       "    .dataframe thead th {\n",
       "        text-align: right;\n",
       "    }\n",
       "</style>\n",
       "<table border=\"1\" class=\"dataframe\">\n",
       "  <thead>\n",
       "    <tr style=\"text-align: right;\">\n",
       "      <th></th>\n",
       "      <th>Player</th>\n",
       "      <th>Share</th>\n",
       "      <th>predictions</th>\n",
       "      <th>Rank</th>\n",
       "      <th>Predicted Rank</th>\n",
       "      <th>Diff in rank</th>\n",
       "    </tr>\n",
       "  </thead>\n",
       "  <tbody>\n",
       "    <tr>\n",
       "      <th>2318</th>\n",
       "      <td>Hakeem Olajuwon</td>\n",
       "      <td>0.140</td>\n",
       "      <td>0.168203</td>\n",
       "      <td>5</td>\n",
       "      <td>2</td>\n",
       "      <td>3</td>\n",
       "    </tr>\n",
       "    <tr>\n",
       "      <th>12018</th>\n",
       "      <td>David Robinson</td>\n",
       "      <td>0.858</td>\n",
       "      <td>0.198601</td>\n",
       "      <td>1</td>\n",
       "      <td>1</td>\n",
       "      <td>0</td>\n",
       "    </tr>\n",
       "    <tr>\n",
       "      <th>1779</th>\n",
       "      <td>Karl Malone</td>\n",
       "      <td>0.507</td>\n",
       "      <td>0.157089</td>\n",
       "      <td>3</td>\n",
       "      <td>3</td>\n",
       "      <td>0</td>\n",
       "    </tr>\n",
       "    <tr>\n",
       "      <th>9489</th>\n",
       "      <td>Patrick Ewing</td>\n",
       "      <td>0.219</td>\n",
       "      <td>0.135133</td>\n",
       "      <td>4</td>\n",
       "      <td>5</td>\n",
       "      <td>-1</td>\n",
       "    </tr>\n",
       "    <tr>\n",
       "      <th>9079</th>\n",
       "      <td>Shaquille O'Neal</td>\n",
       "      <td>0.576</td>\n",
       "      <td>0.114240</td>\n",
       "      <td>2</td>\n",
       "      <td>6</td>\n",
       "      <td>-4</td>\n",
       "    </tr>\n",
       "  </tbody>\n",
       "</table>\n",
       "</div>"
      ],
      "text/plain": [
       "                 Player  Share  predictions  Rank  Predicted Rank  \\\n",
       "2318    Hakeem Olajuwon  0.140     0.168203     5               2   \n",
       "12018    David Robinson  0.858     0.198601     1               1   \n",
       "1779        Karl Malone  0.507     0.157089     3               3   \n",
       "9489      Patrick Ewing  0.219     0.135133     4               5   \n",
       "9079   Shaquille O'Neal  0.576     0.114240     2               6   \n",
       "\n",
       "       Diff in rank  \n",
       "2318              3  \n",
       "12018             0  \n",
       "1779              0  \n",
       "9489             -1  \n",
       "9079             -4  "
      ]
     },
     "execution_count": 192,
     "metadata": {},
     "output_type": "execute_result"
    }
   ],
   "source": [
    "ranking = add_ranks(all_predictions[5])\n",
    "ranking[ranking[\"Rank\"] < 6].sort_values(\"Diff in rank\", ascending = False)"
   ]
  },
  {
   "cell_type": "code",
   "execution_count": 193,
   "id": "cd6ef899-7202-4323-912b-4a10575e6c88",
   "metadata": {
    "tags": []
   },
   "outputs": [],
   "source": [
    "def backtest(stats, model, years, predictors):\n",
    "    aps = []\n",
    "    all_predictions = []\n",
    "    for year in years:\n",
    "        train = stats[stats[\"Year\"] < year].copy()\n",
    "        test = stats[stats[\"Year\"] == year].copy()\n",
    "        model.fit(train[predictors],train[\"Share\"])\n",
    "        predictions = model.predict(test[predictors])\n",
    "        predictions = pd.DataFrame(predictions, columns=[\"predictions\"], index=test.index)\n",
    "        combination = pd.concat([test[[\"Player\", \"Share\"]], predictions], axis=1)\n",
    "        combination = add_ranks(combination)\n",
    "        all_predictions.append(combination)\n",
    "        aps.append(find_ap(combination))\n",
    "    return sum(aps) / len(aps), aps, pd.concat(all_predictions)"
   ]
  },
  {
   "cell_type": "code",
   "execution_count": 194,
   "id": "de11fa66-a6a6-49a9-80ba-facbe719da0e",
   "metadata": {
    "tags": []
   },
   "outputs": [],
   "source": [
    "mean_ap, aps, all_predictions = backtest(stats, reg, years[10:], predictors)"
   ]
  },
  {
   "cell_type": "code",
   "execution_count": 195,
   "id": "22c5e8f4-68d2-4de3-b813-419915971be6",
   "metadata": {
    "tags": []
   },
   "outputs": [
    {
     "data": {
      "text/plain": [
       "0.7767894587150335"
      ]
     },
     "execution_count": 195,
     "metadata": {},
     "output_type": "execute_result"
    }
   ],
   "source": [
    "mean_ap"
   ]
  },
  {
   "cell_type": "markdown",
   "id": "306baee2-683e-4a6d-b5e1-bcc4aa811383",
   "metadata": {},
   "source": [
    "### Plotting the top and bottom most important coefficients."
   ]
  },
  {
   "cell_type": "code",
   "execution_count": 196,
   "id": "d5ba2cdd-b4d5-4e0a-b047-cc7b0bee371b",
   "metadata": {
    "tags": []
   },
   "outputs": [],
   "source": [
    "data = pd.concat([pd.Series(reg.coef_),pd.Series(predictors)], axis = 1).sort_values(0, ascending = False)"
   ]
  },
  {
   "cell_type": "code",
   "execution_count": 197,
   "id": "d1ba68fb-5ed7-4840-9de2-b25083ee0774",
   "metadata": {
    "tags": []
   },
   "outputs": [
    {
     "data": {
      "image/png": "[encoded data removed]",
      "text/plain": [
       "<Figure size 1000x600 with 1 Axes>"
      ]
     },
     "metadata": {},
     "output_type": "display_data"
    }
   ],
   "source": [
    "import matplotlib.pyplot as plt\n",
    "coef_and_predictors = pd.DataFrame(data).sort_values(0, ascending=False)\n",
    "\n",
    "# Separate coefficients and predictors\n",
    "coefficients = coef_and_predictors[0]\n",
    "predictors = coef_and_predictors[1]\n",
    "\n",
    "# Set up the figure\n",
    "plt.figure(figsize=(10, 6))\n",
    "\n",
    "# Create a bar plot of coefficients\n",
    "plt.barh(predictors, coefficients, color=\"skyblue\")\n",
    "plt.xlabel(\"Coefficient Value\")\n",
    "plt.ylabel(\"Predictor\")\n",
    "plt.title(\"Most Important Predictors of Linear Regression Model\")\n",
    "plt.show()"
   ]
  },
  {
   "cell_type": "markdown",
   "id": "89f5b7e3-71f7-49b9-a13f-807b378c312f",
   "metadata": {},
   "source": [
    "### Adding more predictors to improve the model."
   ]
  },
  {
   "cell_type": "code",
   "execution_count": 198,
   "id": "56fa66c9-c3d4-4645-9b80-d8eb3d61b57b",
   "metadata": {
    "tags": []
   },
   "outputs": [
    {
     "name": "stderr",
     "output_type": "stream",
     "text": [
      "/var/folders/gw/w91jngyn5jj1gy9xk_4wxqjc0000gn/T/ipykernel_1176/2022889540.py:1: FutureWarning: Not prepending group keys to the result index of transform-like apply. In the future, the group keys will be included in the index, regardless of whether the applied function returns a like-indexed object.\n",
      "To preserve the previous behavior, use\n",
      "\n",
      "\t>>> .groupby(..., group_keys=False)\n",
      "\n",
      "To adopt the future behavior and silence this warning, use \n",
      "\n",
      "\t>>> .groupby(..., group_keys=True)\n",
      "  stat_ratios = stats[[\"PTS\", \"AST\", \"STL\", \"BLK\", \"3P\", \"Year\"]].groupby(\"Year\").apply(lambda x: x/x.mean())\n"
     ]
    }
   ],
   "source": [
    "stat_ratios = stats[[\"PTS\", \"AST\", \"STL\", \"BLK\", \"3P\", \"Year\"]].groupby(\"Year\").apply(lambda x: x/x.mean())"
   ]
  },
  {
   "cell_type": "code",
   "execution_count": 199,
   "id": "aa85a474-ff93-4a48-bed9-8f92fdb735b4",
   "metadata": {
    "tags": []
   },
   "outputs": [
    {
     "data": {
      "text/html": [
       "<div>\n",
       "<style scoped>\n",
       "    .dataframe tbody tr th:only-of-type {\n",
       "        vertical-align: middle;\n",
       "    }\n",
       "\n",
       "    .dataframe tbody tr th {\n",
       "        vertical-align: top;\n",
       "    }\n",
       "\n",
       "    .dataframe thead th {\n",
       "        text-align: right;\n",
       "    }\n",
       "</style>\n",
       "<table border=\"1\" class=\"dataframe\">\n",
       "  <thead>\n",
       "    <tr style=\"text-align: right;\">\n",
       "      <th></th>\n",
       "      <th>PTS</th>\n",
       "      <th>AST</th>\n",
       "      <th>STL</th>\n",
       "      <th>BLK</th>\n",
       "      <th>3P</th>\n",
       "      <th>Year</th>\n",
       "    </tr>\n",
       "  </thead>\n",
       "  <tbody>\n",
       "    <tr>\n",
       "      <th>0</th>\n",
       "      <td>0.674727</td>\n",
       "      <td>0.313068</td>\n",
       "      <td>0.778905</td>\n",
       "      <td>1.341719</td>\n",
       "      <td>0.00</td>\n",
       "      <td>1.0</td>\n",
       "    </tr>\n",
       "    <tr>\n",
       "      <th>1</th>\n",
       "      <td>1.623563</td>\n",
       "      <td>0.983927</td>\n",
       "      <td>1.427992</td>\n",
       "      <td>0.447240</td>\n",
       "      <td>3.84</td>\n",
       "      <td>1.0</td>\n",
       "    </tr>\n",
       "    <tr>\n",
       "      <th>2</th>\n",
       "      <td>2.108523</td>\n",
       "      <td>1.207547</td>\n",
       "      <td>1.427992</td>\n",
       "      <td>2.236198</td>\n",
       "      <td>0.00</td>\n",
       "      <td>1.0</td>\n",
       "    </tr>\n",
       "    <tr>\n",
       "      <th>3</th>\n",
       "      <td>0.421705</td>\n",
       "      <td>0.000000</td>\n",
       "      <td>0.000000</td>\n",
       "      <td>0.000000</td>\n",
       "      <td>0.00</td>\n",
       "      <td>1.0</td>\n",
       "    </tr>\n",
       "    <tr>\n",
       "      <th>4</th>\n",
       "      <td>2.466972</td>\n",
       "      <td>1.565339</td>\n",
       "      <td>1.038540</td>\n",
       "      <td>3.577918</td>\n",
       "      <td>0.00</td>\n",
       "      <td>1.0</td>\n",
       "    </tr>\n",
       "    <tr>\n",
       "      <th>...</th>\n",
       "      <td>...</td>\n",
       "      <td>...</td>\n",
       "      <td>...</td>\n",
       "      <td>...</td>\n",
       "      <td>...</td>\n",
       "      <td>...</td>\n",
       "    </tr>\n",
       "    <tr>\n",
       "      <th>18240</th>\n",
       "      <td>0.669490</td>\n",
       "      <td>2.010657</td>\n",
       "      <td>2.120711</td>\n",
       "      <td>0.419118</td>\n",
       "      <td>0.00</td>\n",
       "      <td>1.0</td>\n",
       "    </tr>\n",
       "    <tr>\n",
       "      <th>18241</th>\n",
       "      <td>0.639059</td>\n",
       "      <td>1.283398</td>\n",
       "      <td>1.178173</td>\n",
       "      <td>1.257353</td>\n",
       "      <td>0.00</td>\n",
       "      <td>1.0</td>\n",
       "    </tr>\n",
       "    <tr>\n",
       "      <th>18242</th>\n",
       "      <td>0.243451</td>\n",
       "      <td>0.171120</td>\n",
       "      <td>0.235635</td>\n",
       "      <td>1.466912</td>\n",
       "      <td>0.00</td>\n",
       "      <td>1.0</td>\n",
       "    </tr>\n",
       "    <tr>\n",
       "      <th>18243</th>\n",
       "      <td>0.284026</td>\n",
       "      <td>0.513359</td>\n",
       "      <td>0.824721</td>\n",
       "      <td>0.000000</td>\n",
       "      <td>0.00</td>\n",
       "      <td>1.0</td>\n",
       "    </tr>\n",
       "    <tr>\n",
       "      <th>18244</th>\n",
       "      <td>0.355033</td>\n",
       "      <td>0.256680</td>\n",
       "      <td>0.353452</td>\n",
       "      <td>0.838235</td>\n",
       "      <td>0.00</td>\n",
       "      <td>1.0</td>\n",
       "    </tr>\n",
       "  </tbody>\n",
       "</table>\n",
       "<p>18245 rows × 6 columns</p>\n",
       "</div>"
      ],
      "text/plain": [
       "            PTS       AST       STL       BLK    3P  Year\n",
       "0      0.674727  0.313068  0.778905  1.341719  0.00   1.0\n",
       "1      1.623563  0.983927  1.427992  0.447240  3.84   1.0\n",
       "2      2.108523  1.207547  1.427992  2.236198  0.00   1.0\n",
       "3      0.421705  0.000000  0.000000  0.000000  0.00   1.0\n",
       "4      2.466972  1.565339  1.038540  3.577918  0.00   1.0\n",
       "...         ...       ...       ...       ...   ...   ...\n",
       "18240  0.669490  2.010657  2.120711  0.419118  0.00   1.0\n",
       "18241  0.639059  1.283398  1.178173  1.257353  0.00   1.0\n",
       "18242  0.243451  0.171120  0.235635  1.466912  0.00   1.0\n",
       "18243  0.284026  0.513359  0.824721  0.000000  0.00   1.0\n",
       "18244  0.355033  0.256680  0.353452  0.838235  0.00   1.0\n",
       "\n",
       "[18245 rows x 6 columns]"
      ]
     },
     "execution_count": 199,
     "metadata": {},
     "output_type": "execute_result"
    }
   ],
   "source": [
    "stat_ratios"
   ]
  },
  {
   "cell_type": "code",
   "execution_count": 200,
   "id": "8d58fe16-7ba4-466a-809d-526259da3aea",
   "metadata": {
    "tags": []
   },
   "outputs": [],
   "source": [
    "stats[[\"PTS_R\", \"AST_R\", \"STL_R\", \"BLK_R\", \"3P_R\"]] = stat_ratios[[\"PTS\", \"AST\", \"STL\", \"BLK\", \"3P\"]]"
   ]
  },
  {
   "cell_type": "code",
   "execution_count": 201,
   "id": "1466dc85-ee49-4771-a34f-d68f6f68c7fd",
   "metadata": {
    "tags": []
   },
   "outputs": [],
   "source": [
    "predictors = ['Age', 'G', 'GS', 'MP', 'FG', 'FGA', 'FG%', '3P',\n",
    "       '3PA', '3P%', '2P', '2PA', '2P%', 'eFG%', 'FT', 'FTA', 'FT%', 'ORB',\n",
    "       'DRB', 'TRB', 'AST', 'STL', 'BLK', 'TOV', 'PF', 'PTS', 'Year',\n",
    "        'W', 'L', 'W/L%', 'GB', 'PS/G',\n",
    "       'PA/G', 'SRS', \"PTS_R\", \"AST_R\", \"STL_R\", \"BLK_R\", \"3P_R\"]"
   ]
  },
  {
   "cell_type": "code",
   "execution_count": 202,
   "id": "6b587509-3ecf-43a7-a4a6-164a0f9c0628",
   "metadata": {
    "tags": []
   },
   "outputs": [],
   "source": [
    "mean_ap, aps, all_predictions = backtest(stats, reg, years[10:], predictors)"
   ]
  },
  {
   "cell_type": "code",
   "execution_count": 203,
   "id": "ba6f036b-888d-4809-98fd-2921f74e7d8f",
   "metadata": {
    "tags": []
   },
   "outputs": [
    {
     "data": {
      "text/plain": [
       "0.7713168311167483"
      ]
     },
     "execution_count": 203,
     "metadata": {},
     "output_type": "execute_result"
    }
   ],
   "source": [
    "mean_ap"
   ]
  },
  {
   "cell_type": "markdown",
   "id": "24ce83f1-f38f-4c11-8883-ee6032fab942",
   "metadata": {
    "tags": []
   },
   "source": [
    "**Not a huge improvement by adding predictors.**"
   ]
  },
  {
   "cell_type": "code",
   "execution_count": 204,
   "id": "3e9639e3-b62b-457d-a456-939176e33b73",
   "metadata": {
    "tags": []
   },
   "outputs": [],
   "source": [
    "stats[\"NPos\"] = stats[\"Pos\"].astype(\"category\").cat.codes\n",
    "stats[\"NTm\"] = stats[\"Tm\"].astype(\"category\").cat.codes"
   ]
  },
  {
   "cell_type": "markdown",
   "id": "af07b52c-d053-41b6-a9b8-db259c000471",
   "metadata": {},
   "source": [
    "### Random Forest Regression Model."
   ]
  },
  {
   "cell_type": "code",
   "execution_count": 205,
   "id": "b7162d28-7f5c-4283-b6aa-4c65c1ec4548",
   "metadata": {
    "tags": []
   },
   "outputs": [],
   "source": [
    "from sklearn.ensemble import RandomForestRegressor\n",
    "\n",
    "rf = RandomForestRegressor(n_estimators=100,random_state=1, min_samples_split=5)\n",
    "\n",
    "mean_ap, aps, all_predictions = backtest(stats, rf, years[30:], predictors)"
   ]
  },
  {
   "cell_type": "code",
   "execution_count": 206,
   "id": "4a6306de-e738-4c71-bbe0-9c887db785d2",
   "metadata": {
    "tags": []
   },
   "outputs": [
    {
     "data": {
      "text/plain": [
       "0.7767757242757243"
      ]
     },
     "execution_count": 206,
     "metadata": {},
     "output_type": "execute_result"
    }
   ],
   "source": [
    "mean_ap"
   ]
  },
  {
   "cell_type": "code",
   "execution_count": 207,
   "id": "b97db086-29fa-4622-82cd-619ba8bef6fc",
   "metadata": {
    "tags": []
   },
   "outputs": [],
   "source": [
    "mean_ap, aps, all_predictions = backtest(stats, reg, years[30:], predictors)"
   ]
  },
  {
   "cell_type": "code",
   "execution_count": 208,
   "id": "b84b7d60-f5c9-407b-8e02-438c1cc18bac",
   "metadata": {
    "tags": []
   },
   "outputs": [
    {
     "data": {
      "text/plain": [
       "0.7869919198102221"
      ]
     },
     "execution_count": 208,
     "metadata": {},
     "output_type": "execute_result"
    }
   ],
   "source": [
    "mean_ap"
   ]
  },
  {
   "cell_type": "markdown",
   "id": "e5598b03-c6b5-4b2f-8997-ac8228f9e0a4",
   "metadata": {
    "tags": []
   },
   "source": [
    "**Random Forest Regression works better than Ridge Regression Model.**"
   ]
  },
  {
   "cell_type": "markdown",
   "id": "6ff6d26e-04ce-4e38-9951-710be121d503",
   "metadata": {},
   "source": []
  }
 ],
 "metadata": {
  "kernelspec": {
   "display_name": "Python 3 (ipykernel)",
   "language": "python",
   "name": "python3"
  },
  "language_info": {
   "codemirror_mode": {
    "name": "ipython",
    "version": 3
   },
   "file_extension": ".py",
   "mimetype": "text/x-python",
   "name": "python",
   "nbconvert_exporter": "python",
   "pygments_lexer": "ipython3",
   "version": "3.11.3"
  }
 },
 "nbformat": 4,
 "nbformat_minor": 5
}
